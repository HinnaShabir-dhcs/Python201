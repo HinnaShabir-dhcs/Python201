{
 "cells": [
  {
   "cell_type": "markdown",
   "metadata": {},
   "source": [
    "<img src=\"https://www.assistancebeyondcrisis.org.au/wp-content/uploads/2017/05/logo-deloitte.png\" width=\"150\" align = \"right\">"
   ]
  },
  {
   "cell_type": "markdown",
   "metadata": {},
   "source": [
    "# AnalyticsU\n",
    "#### Python 201 Additional Exercises"
   ]
  },
  {
   "cell_type": "markdown",
   "metadata": {},
   "source": [
    "## Part 1: Mutability"
   ]
  },
  {
   "cell_type": "markdown",
   "metadata": {},
   "source": [
    "Recall that any object in Python has an <b>identity</b>, a <b>value</b>, and a <b>type</b>. The identity and type of an object never change, but in some cases an object's value can change. These objects are said to be mutable! \n",
    "\n",
    "### Exercise 1: \n",
    "This exercise explores some of these features! "
   ]
  },
  {
   "cell_type": "code",
   "execution_count": 1,
   "metadata": {},
   "outputs": [],
   "source": [
    "# Take two identical lists. Do these have the same values or are they identical?\n",
    "test1 = [1,2,3,4,5]\n",
    "test2 = [1,2,3,4,5]"
   ]
  },
  {
   "cell_type": "code",
   "execution_count": 2,
   "metadata": {},
   "outputs": [
    {
     "name": "stdout",
     "output_type": "stream",
     "text": [
      "True\n",
      "False\n"
     ]
    }
   ],
   "source": [
    "# The == operator checks whether the VALUES are the same, where as the is operator checks the identity.\n",
    "# As seen below, the two lists have the same values, but different identities!\n",
    "print(test1 == test2)\n",
    "print(test1 is test2)"
   ]
  },
  {
   "cell_type": "code",
   "execution_count": 3,
   "metadata": {},
   "outputs": [
    {
     "name": "stdout",
     "output_type": "stream",
     "text": [
      "2682216539464\n",
      "2682216539016\n"
     ]
    }
   ],
   "source": [
    "# If these lists have different identities, what are they?\n",
    "# Hint: use the id() function\n",
    "\n",
    "print(id(test1))\n",
    "print(id(test2))"
   ]
  },
  {
   "cell_type": "code",
   "execution_count": 4,
   "metadata": {},
   "outputs": [
    {
     "name": "stdout",
     "output_type": "stream",
     "text": [
      "<class 'list'>\n",
      "<class 'tuple'>\n"
     ]
    }
   ],
   "source": [
    "# Now that you know the difference between identities and values, let's try to see identify when an object is immutable\n",
    "\n",
    "# Take the list and tuple below:\n",
    "test1 = [1,2,3,4,5] #list\n",
    "test2 = (1,2,3,4,5) #tuple\n",
    "\n",
    "# If there was any doubt, you can use the type() function to determine the type of object!\n",
    "print(type(test1))\n",
    "print(type(test2))\n",
    "\n",
    "\n",
    "# Try adding additional values to the containers above and check whether or not the identity changes as the value changes!\n",
    "# Hint: add similar containers (i.e. lists or tuples) to the tests, then print the id(x) results"
   ]
  },
  {
   "cell_type": "code",
   "execution_count": 5,
   "metadata": {},
   "outputs": [
    {
     "name": "stdout",
     "output_type": "stream",
     "text": [
      "2682216655432\n",
      "2682216655432\n"
     ]
    },
    {
     "data": {
      "text/plain": [
       "[1, 2, 3, 4, 5, 6, 7, 8]"
      ]
     },
     "execution_count": 5,
     "metadata": {},
     "output_type": "execute_result"
    }
   ],
   "source": [
    "# Test1\n",
    "print(id(test1))\n",
    "test1 += [6,7,8]\n",
    "print(id(test1))\n",
    "test1"
   ]
  },
  {
   "cell_type": "code",
   "execution_count": 6,
   "metadata": {},
   "outputs": [],
   "source": [
    "#Notice how, even though the values change, the identity is still the same. A list is mutable!"
   ]
  },
  {
   "cell_type": "code",
   "execution_count": 7,
   "metadata": {},
   "outputs": [
    {
     "name": "stdout",
     "output_type": "stream",
     "text": [
      "2682216312168\n",
      "2682215943192\n"
     ]
    },
    {
     "data": {
      "text/plain": [
       "(1, 2, 3, 4, 5, 6, 7, 8)"
      ]
     },
     "execution_count": 7,
     "metadata": {},
     "output_type": "execute_result"
    }
   ],
   "source": [
    "# Test2\n",
    "print(id(test2))\n",
    "test2 += (6,7,8)\n",
    "print(id(test2))\n",
    "test2"
   ]
  },
  {
   "cell_type": "code",
   "execution_count": 8,
   "metadata": {},
   "outputs": [],
   "source": [
    "# Conversley, notice how as the values change, the identity of the object changes. A tuple is immutable!"
   ]
  },
  {
   "cell_type": "markdown",
   "metadata": {},
   "source": [
    "## Part 2: Comprehension\n",
    "Comprehensions are a powerful tool that allows us to construct new sequences (lists, sets, dictionaries, etc.) using pre-defined sequences. "
   ]
  },
  {
   "cell_type": "markdown",
   "metadata": {},
   "source": [
    "### Exercise 1:\n",
    "Let's look at how we can manipulate dictionaries and lists as efficiently as possible.\n",
    "\n",
    "Assume we have this sentence below. Come up with a way to count the length of each word in the sentence.\n",
    "\n",
    "Hint: the .split() method splits up a string based on a character. The default argument is ' ' but can be changed to a specific character."
   ]
  },
  {
   "cell_type": "code",
   "execution_count": 9,
   "metadata": {},
   "outputs": [],
   "source": [
    "sentence = \"I love learning Python and applying it to solve complex client problems\""
   ]
  },
  {
   "cell_type": "markdown",
   "metadata": {},
   "source": [
    "Answer:"
   ]
  },
  {
   "cell_type": "code",
   "execution_count": 10,
   "metadata": {
    "scrolled": false
   },
   "outputs": [
    {
     "data": {
      "text/plain": [
       "{'I': 1,\n",
       " 'love': 4,\n",
       " 'learning': 8,\n",
       " 'Python': 6,\n",
       " 'and': 3,\n",
       " 'applying': 8,\n",
       " 'it': 2,\n",
       " 'to': 2,\n",
       " 'solve': 5,\n",
       " 'complex': 7,\n",
       " 'client': 6,\n",
       " 'problems': 8}"
      ]
     },
     "execution_count": 10,
     "metadata": {},
     "output_type": "execute_result"
    }
   ],
   "source": [
    "len_words = {key:len(key) for key in sentence.split()}\n",
    "len_words"
   ]
  },
  {
   "cell_type": "markdown",
   "metadata": {},
   "source": [
    "### Exercise 2:\n",
    "Great! Now that we have all the words and the lengths for each word, let's see if we can get a list of just the lengths of the words in the sentence."
   ]
  },
  {
   "cell_type": "markdown",
   "metadata": {},
   "source": [
    "Answer:"
   ]
  },
  {
   "cell_type": "code",
   "execution_count": 11,
   "metadata": {
    "scrolled": true
   },
   "outputs": [
    {
     "data": {
      "text/plain": [
       "[1, 4, 8, 6, 3, 8, 2, 2, 5, 7, 6, 8]"
      ]
     },
     "execution_count": 11,
     "metadata": {},
     "output_type": "execute_result"
    }
   ],
   "source": [
    "lengths = [len_words[nbr] for nbr in len_words.keys()]\n",
    "lengths"
   ]
  },
  {
   "cell_type": "markdown",
   "metadata": {},
   "source": [
    "### Exercise 3:\n",
    "Now if we are given another sentence, let's see if we can check which sentence has the longest word. Also check to see which sentence has more words with lengths divisible by 2."
   ]
  },
  {
   "cell_type": "code",
   "execution_count": 12,
   "metadata": {},
   "outputs": [],
   "source": [
    "sentence2 = \"Lists can be troublesome but I can handle it with list comprehension in Python\""
   ]
  },
  {
   "cell_type": "markdown",
   "metadata": {},
   "source": [
    "Answer:"
   ]
  },
  {
   "cell_type": "code",
   "execution_count": 13,
   "metadata": {},
   "outputs": [
    {
     "name": "stdout",
     "output_type": "stream",
     "text": [
      "The second sentence has the longer word!\n"
     ]
    }
   ],
   "source": [
    "len_words2 = {key:len(key) for key in sentence2.split()}\n",
    "lengths2 = [len_words2[nbr] for nbr in len_words2.keys()]\n",
    "\n",
    "if max(lengths) > max(lengths2):\n",
    "    print(\"The first sentence has the longer word!\")\n",
    "elif max(lengths) < max(lengths2):\n",
    "    print(\"The second sentence has the longer word!\")\n",
    "else:\n",
    "    print(\"The longest word in both sentences are of equal length\")"
   ]
  },
  {
   "cell_type": "code",
   "execution_count": 14,
   "metadata": {},
   "outputs": [
    {
     "name": "stdout",
     "output_type": "stream",
     "text": [
      "The first sentence has more words with lengths that are divisible by 2!\n"
     ]
    }
   ],
   "source": [
    "# The number of words that are divisible by 2 in the first sentence:\n",
    "div2_sent1 = [nbr for nbr in lengths if nbr % 2 == 0]\n",
    "\n",
    "# The number of words that are divisible by 2 in the second sentence:\n",
    "div2_sent2 = [nbr for nbr in lengths2 if nbr % 2 == 0]\n",
    "\n",
    "if len(div2_sent1) > len(div2_sent2):\n",
    "    print(\"The first sentence has more words with lengths that are divisible by 2!\")\n",
    "elif len(div2_sent1) < len(div2_sent2):\n",
    "    print(\"The second sentence has more words with lengths that are divisible by 2!\")\n",
    "else:\n",
    "    print(\"Both sentences have and equal number of words with lengths that are divisible by 2!\")"
   ]
  },
  {
   "cell_type": "markdown",
   "metadata": {},
   "source": [
    "### Exercise 5:\n",
    "Challenge: Try and create a rough new sentence that contains only the words from the previous two sentences that have lengths greater than 3 and are divisible by 2."
   ]
  },
  {
   "cell_type": "markdown",
   "metadata": {},
   "source": [
    "Answer:"
   ]
  },
  {
   "cell_type": "code",
   "execution_count": 15,
   "metadata": {},
   "outputs": [],
   "source": [
    "all_words_lens = {**len_words, **len_words2}\n",
    "\n",
    "words_new_sentence = {word:all_words_lens[word] for word in all_words_lens.keys() if all_words_lens[word] > 3 if all_words_lens[word] % 2 == 0}"
   ]
  },
  {
   "cell_type": "code",
   "execution_count": 16,
   "metadata": {},
   "outputs": [
    {
     "name": "stdout",
     "output_type": "stream",
     "text": [
      " love learning Python applying client problems handle with list\n"
     ]
    }
   ],
   "source": [
    "new_sentence = ''\n",
    "for word in words_new_sentence.keys():\n",
    "    new_sentence += ' ' + word\n",
    "    \n",
    "print(new_sentence)"
   ]
  },
  {
   "cell_type": "markdown",
   "metadata": {},
   "source": [
    "### Exercise 6:\n",
    "Write a function (divisible) that takes in two variables (max_num and test_num) where the function loops through the range from 0 to max_num and checks to see which numbers are divisible by test_num. The function should return a list of all numbers in range max_num divisible by test_num. "
   ]
  },
  {
   "cell_type": "markdown",
   "metadata": {},
   "source": [
    "Answer:"
   ]
  },
  {
   "cell_type": "code",
   "execution_count": 17,
   "metadata": {},
   "outputs": [],
   "source": [
    "def divisible(test_num, max_num):\n",
    "    a = list(range(max_num))\n",
    "    b=[]\n",
    "    for num in a:\n",
    "        if num % test_num == 0:\n",
    "            b.append(num)\n",
    "    return b"
   ]
  },
  {
   "cell_type": "code",
   "execution_count": 18,
   "metadata": {},
   "outputs": [
    {
     "data": {
      "text/plain": [
       "[0, 7, 14, 21, 28, 35, 42, 49, 56]"
      ]
     },
     "execution_count": 18,
     "metadata": {},
     "output_type": "execute_result"
    }
   ],
   "source": [
    "# Test your function\n",
    "divisible(7, 62)"
   ]
  },
  {
   "cell_type": "markdown",
   "metadata": {},
   "source": [
    "### Exercise 7:\n",
    "Now write a list comprehension that returns the same list using variables test_num and max_num!"
   ]
  },
  {
   "cell_type": "markdown",
   "metadata": {},
   "source": [
    "Answer:"
   ]
  },
  {
   "cell_type": "code",
   "execution_count": 19,
   "metadata": {},
   "outputs": [],
   "source": [
    "test_num = 7\n",
    "max_num = 62\n",
    "test = [num for num in range(max_num) if num % test_num == 0]"
   ]
  },
  {
   "cell_type": "markdown",
   "metadata": {},
   "source": [
    "Test to see if the list comprehension result is the same as your function!"
   ]
  },
  {
   "cell_type": "code",
   "execution_count": 20,
   "metadata": {},
   "outputs": [
    {
     "data": {
      "text/plain": [
       "[0, 7, 14, 21, 28, 35, 42, 49, 56]"
      ]
     },
     "execution_count": 20,
     "metadata": {},
     "output_type": "execute_result"
    }
   ],
   "source": [
    "test"
   ]
  },
  {
   "cell_type": "markdown",
   "metadata": {},
   "source": [
    "### Exercise 8:\n",
    "Write another list comprehension that checks each value in your previous list comprehension and states whether it's even or odd"
   ]
  },
  {
   "cell_type": "code",
   "execution_count": 21,
   "metadata": {},
   "outputs": [],
   "source": [
    "even_odd = ['Even' if num % 2 == 0 else 'Odd' for num in test]"
   ]
  },
  {
   "cell_type": "markdown",
   "metadata": {},
   "source": [
    "Check to see if it worked!"
   ]
  },
  {
   "cell_type": "code",
   "execution_count": 22,
   "metadata": {},
   "outputs": [
    {
     "data": {
      "text/plain": [
       "['Even', 'Odd', 'Even', 'Odd', 'Even', 'Odd', 'Even', 'Odd', 'Even']"
      ]
     },
     "execution_count": 22,
     "metadata": {},
     "output_type": "execute_result"
    }
   ],
   "source": [
    "even_odd"
   ]
  },
  {
   "cell_type": "markdown",
   "metadata": {},
   "source": [
    "### Exercise 9:\n",
    "Now write a dictionary comprehension that assigns each item in the first list (numbers) as a key, and each item in the second list (even/odd) as the value\n",
    "\n",
    "Hint: for looping through two lists, try using zip()"
   ]
  },
  {
   "cell_type": "code",
   "execution_count": 23,
   "metadata": {},
   "outputs": [],
   "source": [
    "dict_check = {key:value for (key, value) in zip(test1, even_odd)}"
   ]
  },
  {
   "cell_type": "markdown",
   "metadata": {},
   "source": [
    "Confirm that it worked!"
   ]
  },
  {
   "cell_type": "code",
   "execution_count": 24,
   "metadata": {},
   "outputs": [
    {
     "data": {
      "text/plain": [
       "{1: 'Even',\n",
       " 2: 'Odd',\n",
       " 3: 'Even',\n",
       " 4: 'Odd',\n",
       " 5: 'Even',\n",
       " 6: 'Odd',\n",
       " 7: 'Even',\n",
       " 8: 'Odd'}"
      ]
     },
     "execution_count": 24,
     "metadata": {},
     "output_type": "execute_result"
    }
   ],
   "source": [
    "dict_check"
   ]
  }
 ],
 "metadata": {
  "kernelspec": {
   "display_name": "Python 3",
   "language": "python",
   "name": "python3"
  },
  "language_info": {
   "codemirror_mode": {
    "name": "ipython",
    "version": 3
   },
   "file_extension": ".py",
   "mimetype": "text/x-python",
   "name": "python",
   "nbconvert_exporter": "python",
   "pygments_lexer": "ipython3",
   "version": "3.7.6"
  }
 },
 "nbformat": 4,
 "nbformat_minor": 4
}
