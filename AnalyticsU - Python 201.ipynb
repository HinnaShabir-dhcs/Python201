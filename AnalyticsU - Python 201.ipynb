{
 "cells": [
  {
   "cell_type": "markdown",
   "metadata": {},
   "source": [
    "<img src=\"https://www.assistancebeyondcrisis.org.au/wp-content/uploads/2017/05/logo-deloitte.png\" width=\"150\" align = \"right\">"
   ]
  },
  {
   "cell_type": "markdown",
   "metadata": {},
   "source": [
    "# AnalyticsU - Python 201\n",
    "Instructors: Peter Coiley, Brad Solomon, and Olivia Gebhardt"
   ]
  },
  {
   "cell_type": "markdown",
   "metadata": {},
   "source": [
    "## Part 1: Intermediate Python Concepts"
   ]
  },
  {
   "cell_type": "markdown",
   "metadata": {},
   "source": [
    "Before focusing on analytics-centric Python, you'll cover several intermediate-level Python concepts that extend to multiple domains besides analytics and data science:\n",
    "\n",
    "1. **Comprehensions (list, set, dict)** - creating new data structures with idiomatic Python code\n",
    "2. **Object-oriented programming (OOP)** - a programming paradigm that represents things as objects\n",
    "\n",
    "These are sometimes referred to as **native** Python concepts because they are objects built into the Python interpreter or from the Python Standard Library, rather than being specific to a third-party Python package."
   ]
  },
  {
   "cell_type": "markdown",
   "metadata": {},
   "source": [
    "## Prequisites: Imports"
   ]
  },
  {
   "cell_type": "markdown",
   "metadata": {},
   "source": [
    "You'll need to access the following imports throughout this lesson:"
   ]
  },
  {
   "cell_type": "code",
   "execution_count": null,
   "metadata": {},
   "outputs": [],
   "source": [
    "import bisect\n",
    "import statistics\n",
    "from collections import Counter\n",
    "from datetime import date, timedelta\n",
    "from math import radians, asin, cos, isclose, sin, sqrt\n",
    "from typing import Container, Optional\n",
    "\n",
    "import pandas as pd"
   ]
  },
  {
   "cell_type": "markdown",
   "metadata": {},
   "source": [
    "The first several lines here import from Python's Standard Library.  These are the \"[batteries included](https://docs.python.org/3/library/)\" part of any Python distribution.\n",
    "\n",
    "The last import, `pandas`, is a third-party library.\n",
    "\n",
    "_Note_: To make your code more readable in a large codebase, it is good practice to **organize import statements** in line with [Python's PEP 8](https://www.python.org/dev/peps/pep-0008/#imports) style guide.  Generally, that means using imports in the following order:\n",
    "\n",
    "1. Standard library imports (such as `datetime` or `bisect`)\n",
    "2. Related third party imports (such as `pandas`)\n",
    "3. Local application/library specific imports (not shown above)\n",
    "\n",
    "...with a blank line between each group.\n",
    "\n",
    "_Troubleshooting_: If you're seeing `ModuleNotFoundError: No module named 'pandas'`, you will need to [install Pandas](https://pandas.pydata.org/docs/getting_started/install.html) from the command line through `conda` or `pip`."
   ]
  },
  {
   "cell_type": "markdown",
   "metadata": {},
   "source": [
    "## Comprehensions"
   ]
  },
  {
   "cell_type": "markdown",
   "metadata": {},
   "source": [
    "In AnalyticsU Python101 and/or the [Python tutorial](https://docs.python.org/3/tutorial/), you were introduced to elementary data structures such as `list`, `tuple`, `set`, and `dict`.\n",
    "\n",
    "You can [iterate](https://docs.python.org/3/library/stdtypes.html#typeiter) over the elements of these data structures using [control flow](https://docs.python.org/3/tutorial/controlflow.html) such as `for` and `while`, optionally appending or adding to a new data structure as a result. \n",
    "\n",
    "An alternative and somtimes more idiomatic way to iterate is to use a [comprehension](https://docs.python.org/3/tutorial/datastructures.html#list-comprehensions).  These come in several forms:\n",
    "\n",
    "| Type | Example |\n",
    "| ---- | ------- |\n",
    "| `list` comprehension | `[i ** 2 for i in range(5)]` |\n",
    "| `set` comprehension | `{i[0].casefold() for i in (\"sampson\", \"Shelby\", \"pat\")}` |\n",
    "| `dict` comprehension | `{name: len(name) for i in (\"sampson\", \"Shelby\", \"pat\")}` |\n",
    "\n",
    "_Note_: The term before \"comprehension\" here refers to the data structure that is being _formed_, not to the data structure that is being iterated over.  In otherwords, a _list comprehension_ will uses brackets `[ ... ]` to form a new list, and could be iterating over another `list`, a `dict` or something else."
   ]
  },
  {
   "cell_type": "markdown",
   "metadata": {},
   "source": [
    "### List Comprehensions"
   ]
  },
  {
   "cell_type": "markdown",
   "metadata": {},
   "source": [
    "Square each number in `range(5)`:"
   ]
  },
  {
   "cell_type": "code",
   "execution_count": null,
   "metadata": {},
   "outputs": [],
   "source": [
    "print([i ** 2 for i in range(5)])"
   ]
  },
  {
   "cell_type": "markdown",
   "metadata": {},
   "source": [
    "Iterate over a `tuple` rather than `range` object:"
   ]
  },
  {
   "cell_type": "code",
   "execution_count": null,
   "metadata": {},
   "outputs": [],
   "source": [
    "print([i ** 2 for i in (2, 4, 8, 16)])"
   ]
  },
  {
   "cell_type": "markdown",
   "metadata": {},
   "source": [
    "Find only even numbers over the range `[0, 19]`:"
   ]
  },
  {
   "cell_type": "code",
   "execution_count": null,
   "metadata": {},
   "outputs": [],
   "source": [
    "print([i for i in range(20) if i % 2 == 0])"
   ]
  },
  {
   "cell_type": "markdown",
   "metadata": {},
   "source": [
    "Define a `list` of addresses:"
   ]
  },
  {
   "cell_type": "code",
   "execution_count": null,
   "metadata": {},
   "outputs": [],
   "source": [
    "addresses = [\n",
    "    \"Fort Meade, MD\",\n",
    "    \"Baltimore, MD\",\n",
    "    \"Fort Worth, TX\",\n",
    "    \"Culpeper, VA\",\n",
    "    \"Boise, ID\",\n",
    "    \"Baltimore, MD\",\n",
    "]"
   ]
  },
  {
   "cell_type": "markdown",
   "metadata": {},
   "source": [
    "Using a traditional `for`-loop, create a new `list` that contains only cities in `MD`:"
   ]
  },
  {
   "cell_type": "code",
   "execution_count": null,
   "metadata": {},
   "outputs": [],
   "source": [
    "only_maryland = []\n",
    "for a in addresses:\n",
    "    if a.endswith(\"MD\"):\n",
    "        only_maryland.append(a)\n",
    "\n",
    "print(only_maryland)"
   ]
  },
  {
   "cell_type": "markdown",
   "metadata": {},
   "source": [
    "The above can be condensed into a `list` comprehension:"
   ]
  },
  {
   "cell_type": "code",
   "execution_count": null,
   "metadata": {},
   "outputs": [],
   "source": [
    "only_maryland_comp = [a for a in addresses if a.endswith(\"MD\")]\n",
    "\n",
    "print(only_maryland_comp)"
   ]
  },
  {
   "cell_type": "markdown",
   "metadata": {},
   "source": [
    "The input may be more involved, such as a `dict` mapping student names to vectors of grades:"
   ]
  },
  {
   "cell_type": "code",
   "execution_count": null,
   "metadata": {},
   "outputs": [],
   "source": [
    "import pandas as pd\n",
    "\n",
    "grades = {\n",
    "    \"tom\": [98.7, 94.2, 89.0],\n",
    "    \"luke\": [85.7, 83.0, 89.0],\n",
    "    \"jenn\": [99.1, 99.2, 100.0],\n",
    "}"
   ]
  },
  {
   "cell_type": "markdown",
   "metadata": {},
   "source": [
    "You can find the unioned, flat list of grades by iterating over the dictionary `values` with a [**nested** `list` comprehension](https://docs.python.org/3/tutorial/datastructures.html#nested-list-comprehensions):"
   ]
  },
  {
   "cell_type": "code",
   "execution_count": null,
   "metadata": {
    "scrolled": false
   },
   "outputs": [],
   "source": [
    "all_grades = [g for v in grades.values() for g in v]\n",
    "print(all_grades)"
   ]
  },
  {
   "cell_type": "markdown",
   "metadata": {},
   "source": [
    "### Set Comprehensions"
   ]
  },
  {
   "cell_type": "markdown",
   "metadata": {},
   "source": [
    "Can you find the set of _unique cities_ in Maryland from `addresses`?"
   ]
  },
  {
   "cell_type": "code",
   "execution_count": null,
   "metadata": {},
   "outputs": [],
   "source": [
    "only_maryland_cities = set()\n",
    "for a in addresses:\n",
    "    if a.endswith(\"MD\"):\n",
    "        city = a.partition(\",\")[0]\n",
    "        only_maryland_cities.add(city)\n",
    "\n",
    "print(only_maryland_cities)"
   ]
  },
  {
   "cell_type": "markdown",
   "metadata": {},
   "source": [
    "You can achieve this in one line of code with a **set comprehension**, which looks like a list comprehension except that it will remove duplicate entries from the result:"
   ]
  },
  {
   "cell_type": "code",
   "execution_count": null,
   "metadata": {},
   "outputs": [],
   "source": [
    "{a.partition(\",\")[0] for a in addresses if a.endswith(\"MD\")}"
   ]
  },
  {
   "cell_type": "markdown",
   "metadata": {},
   "source": [
    "_Note_: Unlike a `list` or `tuple`, a `set` has no concept of sortedness, and is most commonly used for fast **membership testing**."
   ]
  },
  {
   "cell_type": "markdown",
   "metadata": {},
   "source": [
    "### Dict Comprehensions"
   ]
  },
  {
   "cell_type": "markdown",
   "metadata": {},
   "source": [
    "A related form is a **dict comprehension**:"
   ]
  },
  {
   "cell_type": "code",
   "execution_count": null,
   "metadata": {},
   "outputs": [],
   "source": [
    "import statistics\n",
    "\n",
    "grades = [\n",
    "    (\"tom\", [98.7, 94.2, 89.0]),\n",
    "    (\"luke\", [85.7, 83.0, 89.0]),\n",
    "    (\"jenn\", [99.1, 99.2, 100.0]),\n",
    "]"
   ]
  },
  {
   "cell_type": "code",
   "execution_count": null,
   "metadata": {},
   "outputs": [],
   "source": [
    "avg_grades = {}\n",
    "for student, gradeset in grades:\n",
    "    avg_grades[student] = round(statistics.mean(gradeset), 2)\n",
    "    \n",
    "print(avg_grades)"
   ]
  },
  {
   "cell_type": "code",
   "execution_count": null,
   "metadata": {},
   "outputs": [],
   "source": [
    "{student: round(statistics.mean(gradeset), 2) for student, gradeset in grades}"
   ]
  },
  {
   "cell_type": "markdown",
   "metadata": {},
   "source": [
    "### Bonus: Generator Expressions"
   ]
  },
  {
   "cell_type": "markdown",
   "metadata": {},
   "source": [
    "Related to comprehensions are [generator expressions](https://www.python.org/dev/peps/pep-0289/).  These let you avoid creating an intermediate `list` object in memory if you only need to extract a particular data point from it:"
   ]
  },
  {
   "cell_type": "code",
   "execution_count": null,
   "metadata": {},
   "outputs": [],
   "source": [
    "stockdata = [\n",
    "    {\"ticker\": \"GE\", \"pct_chg\": -2.0},\n",
    "    {\"ticker\": \"GE\", \"pct_chg\": 2.1},\n",
    "    {\"ticker\": \"INTC\", \"pct_chg\": 0.1},\n",
    "    {\"ticker\": \"INTC\", \"pct_chg\": 0.3},\n",
    "    {\"ticker\": \"INTC\", \"pct_chg\": -2.9},\n",
    "]\n",
    "\n",
    "max_ge_increase = max(row[\"pct_chg\"] for row in stockdata if row[\"ticker\"] == \"GE\")\n",
    "print(max_ge_increase)"
   ]
  },
  {
   "cell_type": "markdown",
   "metadata": {},
   "source": [
    "As a second example, you can reuse `all_grades` from above to find the count of grades by 10-percent bands:"
   ]
  },
  {
   "cell_type": "code",
   "execution_count": null,
   "metadata": {},
   "outputs": [],
   "source": [
    "from collections import Counter\n",
    "\n",
    "all_grades = [98.7, 94.2, 89.0, 85.7, 83.0, 89.0, 99.1, 99.2, 100.0]\n",
    "print(Counter(i // 10 * 10 for i in all_grades))"
   ]
  },
  {
   "cell_type": "markdown",
   "metadata": {},
   "source": [
    "### Exercises: Comprehensions"
   ]
  },
  {
   "cell_type": "markdown",
   "metadata": {},
   "source": [
    "#### Challenge 1"
   ]
  },
  {
   "cell_type": "markdown",
   "metadata": {},
   "source": [
    "Given a sequence of numbers, find the count of elements that are greater than 20."
   ]
  },
  {
   "cell_type": "code",
   "execution_count": null,
   "metadata": {},
   "outputs": [],
   "source": [
    "seq = [-21, 4, 15, 21, 25, 78, 19, 4]"
   ]
  },
  {
   "cell_type": "markdown",
   "metadata": {},
   "source": [
    "The result should evaluate to **124**."
   ]
  },
  {
   "cell_type": "markdown",
   "metadata": {},
   "source": [
    "**Challenge 1**: [Solution Notebook](solutions/py201-lesson1-challenge1.ipynb)"
   ]
  },
  {
   "cell_type": "markdown",
   "metadata": {},
   "source": [
    "#### Challenge 2"
   ]
  },
  {
   "cell_type": "markdown",
   "metadata": {},
   "source": [
    "You have a bag containing magnets. Each magnet contains an individual letter of the alphabet.\n",
    "\n",
    "Write a function `can_you_spell()` that returns `True` or `False` if a person's name can be spelled using letters from the bag, _without replacement_.\n",
    "\n",
    "The function signature should be:"
   ]
  },
  {
   "cell_type": "code",
   "execution_count": null,
   "metadata": {},
   "outputs": [],
   "source": [
    "from typing import Container\n",
    "\n",
    "def can_you_spell(name: str, bag: Container[str]) -> bool: ..."
   ]
  },
  {
   "cell_type": "markdown",
   "metadata": {},
   "source": [
    "Examples:\n",
    "\n",
    "```python\n",
    "can_you_spell(\"lynn\", [\"y\", \"n\", \"p\", \"g\", \"n\", \"l\"])  # True\n",
    "can_you_spell(\"lynn\", [\"y\", \"n\", \"p\", \"g\", \"l\"])  # False\n",
    "```"
   ]
  },
  {
   "cell_type": "markdown",
   "metadata": {},
   "source": [
    "Hints:\n",
    "\n",
    "- Use a **list comprehension** to iterate over the `bag` parameter.\n",
    "- Use the built-in [`sorted()` function](https://docs.python.org/3/library/functions.html#sorted) and its `key` argument to attempt to arrange letters from the bag into the person's name.\n",
    "- The solution can be written with one line of code."
   ]
  },
  {
   "cell_type": "markdown",
   "metadata": {},
   "source": [
    "**Challenge 2**: [Solution Notebook](solutions/py201-lesson1-challenge2.ipynb)"
   ]
  },
  {
   "cell_type": "markdown",
   "metadata": {},
   "source": [
    "## Object-Oriented Programming"
   ]
  },
  {
   "cell_type": "markdown",
   "metadata": {},
   "source": [
    "One way to help define *object-oriented programming** is to contrast it to what is it _not_.\n",
    "\n",
    "**Functional programming** is a programming style that breaks programs down into functions that take inputs, produce outputs, use **immutable** data structures heavily, and do not change state of other objects."
   ]
  },
  {
   "cell_type": "markdown",
   "metadata": {},
   "source": [
    "### Functional Programming"
   ]
  },
  {
   "cell_type": "markdown",
   "metadata": {},
   "source": [
    "An example of functional programming is to decompose the calculation of [sample standard deviation](https://en.wikipedia.org/wiki/Standard_deviation) down into its parts.:\n",
    "\n",
    "\\begin{equation*}\n",
    "s = {\\sqrt {{\\frac {1}{N-1}}\\sum _{i=1}^{N}\\left(x_{i}-{\\bar {x}}\\right)^{2}}}\n",
    "\\end{equation*}\n",
    "\n",
    "where:\n",
    "\n",
    "- ${\\bar {x}}$ is the sample mean\n",
    "- $x_{i}$ represents each observation\n",
    "- $N$ is the number of observations\n",
    "- $s$ is the resulting sample standard deviation\n",
    "- $\\sum _{i=1}^{N}\\left(x_{i}-{\\bar {x}}\\right)^{2}$ is the **sum of squared deviations**"
   ]
  },
  {
   "cell_type": "markdown",
   "metadata": {},
   "source": [
    "Here's how you can break this down into Python functions:"
   ]
  },
  {
   "cell_type": "code",
   "execution_count": null,
   "metadata": {},
   "outputs": [],
   "source": [
    "from math import sqrt\n",
    "\n",
    "def sample_mean(seq) -> float:\n",
    "    return sum(seq) / len(seq)\n",
    "\n",
    "def squared_deviations(seq, mean) -> list:\n",
    "    return [(i - mean) ** 2 for i in seq]\n",
    "\n",
    "def sample_stdev(seq) -> float:\n",
    "    mean = sample_mean(seq)\n",
    "    devs = squared_deviations(seq, mean)\n",
    "    result = sqrt(sum(devs) / (len(seq) - 1))\n",
    "    return result"
   ]
  },
  {
   "cell_type": "markdown",
   "metadata": {},
   "source": [
    "You've now added these three functions to the **global namespace**, but the variables defined within each function body (such as `devs = ...`) are **local** (internal) to those functions."
   ]
  },
  {
   "cell_type": "code",
   "execution_count": null,
   "metadata": {},
   "outputs": [],
   "source": [
    "data = (727.7, 1086.5, 1091.0, 1361.3, 1490.5, 1956.1)\n",
    "sd = sample_stdev(data)\n",
    "print(f\"Sample standard deviation of metabolic rate data: {sd:.2f}\")"
   ]
  },
  {
   "cell_type": "markdown",
   "metadata": {},
   "source": [
    "The `data` object is unchanged after being passed as a parameter to `sample_stdev`."
   ]
  },
  {
   "cell_type": "markdown",
   "metadata": {},
   "source": [
    "### What Makes Functional Programming \"Functional\"?"
   ]
  },
  {
   "cell_type": "markdown",
   "metadata": {},
   "source": [
    "- A program is broken into smaller, concise functions as individual building blocks.\n",
    "- Function's don't attempt to change state (mutate) their arguments.\n",
    "- The functional style is deterministic: a function is only dependent on its input (no global state) and produces a consistent output for each input value."
   ]
  },
  {
   "cell_type": "markdown",
   "metadata": {},
   "source": [
    "### The Functional Style: More Reading"
   ]
  },
  {
   "cell_type": "markdown",
   "metadata": {},
   "source": [
    "Aside from the `sample_stdev()`, Python also has other features that let you write in a functional style, such as:\n",
    "\n",
    "- [Built-in functions](https://docs.python.org/3/library/functions.html) such as `map()` and `filter()`\n",
    "- Libraries and modules such as [`itertools`](https://docs.python.org/3/library/itertools.html) and [`functools`](https://docs.python.org/3/library/functools.html)\n",
    "\n",
    "Further reading:\n",
    "\n",
    "- **docs.python.org**: [Functional HOWTO](https://docs.python.org/3/howto/functional.html)\n",
    "- **realpython.com**: [Functional Programming in Python](https://realpython.com/courses/functional-programming-python/)"
   ]
  },
  {
   "cell_type": "markdown",
   "metadata": {},
   "source": [
    "### Intro to OOP"
   ]
  },
  {
   "cell_type": "markdown",
   "metadata": {},
   "source": [
    "What should this class do for us?\n",
    "\n",
    "- You should be able to create **instances** of the class to **hold data** for individual employees (level, name, home office, etc)\n",
    "- It should let you associate the employee with a timesheet\n",
    "- It should provide you some **instance methods** that derive additional insights about that employee"
   ]
  },
  {
   "cell_type": "markdown",
   "metadata": {},
   "source": [
    "Let's get down to it and create an `Employee` **class**.\n",
    "\n",
    "A class is like a **blueprint**.  You **instantiate** a class to make individual **instances** of the blueprint."
   ]
  },
  {
   "cell_type": "code",
   "execution_count": null,
   "metadata": {},
   "outputs": [],
   "source": [
    "import bisect\n",
    "from datetime import date, timedelta\n",
    "from typing import Optional\n",
    "\n",
    "import pandas as pd\n",
    "\n",
    "\n",
    "class Employee(object):\n",
    "\n",
    "    valid_levels = (\n",
    "        \"analyst\",\n",
    "        \"consultant\",\n",
    "        \"senior consultant\",\n",
    "        \"manager\",\n",
    "        \"senior manager\",\n",
    "        \"partner\",\n",
    "        \"principal\",\n",
    "        \"managing director\",\n",
    "    )\n",
    "\n",
    "    def promote(self) -> Optional[str]:\n",
    "        \"\"\"Give Employee a promotion and *return* their new level.\n",
    "        \n",
    "        If they can't be promoted any further, do nothing and return None.\n",
    "        \"\"\"\n",
    "        position_index = self.valid_levels.index(self.level)\n",
    "        if position_index == len(self.valid_levels) - 1:\n",
    "            # Could not promote further. Time for vacation\n",
    "            return None\n",
    "        self.level = self.valid_levels[position_index + 1]\n",
    "        return self.level\n",
    "\n",
    "    def __init__(self, lastname, firstname, level):\n",
    "        self.lastname = lastname\n",
    "        self.firstname = firstname\n",
    "        level = level.casefold()\n",
    "        if level not in self.valid_levels:\n",
    "            raise ValueError(f\"Invalid level: {level}\")\n",
    "        self.level = level\n",
    "        \n",
    "        self._time_table = []\n",
    "\n",
    "    def add_time_entry(self, dt: date, wbs_code: str, hours: float):\n",
    "        \"\"\"Add a single timesheet row for this Employee.\"\"\"\n",
    "        # Use bisect.insort_left() to maintain sortedness by (date, wbs_code)\n",
    "        bisect.insort_left(self._time_table, (dt, wbs_code, hours))\n",
    "        return self\n",
    "    \n",
    "    def timesheet(self, since: Optional[date] = None, until: Optional[date] = None) -> pd.DataFrame:\n",
    "        \"\"\"Generate a timesheet as a Pandas DataFrame.\"\"\"\n",
    "        df = pd.DataFrame(self._time_table, columns=[\"dt\", \"wbs_code\", \"hours\"])\n",
    "        pretty_frame = df.pivot_table(index=\"wbs_code\", columns=\"dt\", values=\"hours\").fillna(0)\n",
    "        return pretty_frame.loc[:, since: until]\n",
    "\n",
    "    def current_week_hours(self) -> dict:\n",
    "        \"\"\"Summarize current-week hours per WBS code.\"\"\"\n",
    "        since = self.most_recent_sunday()\n",
    "        return self.timesheet(since=since).sum(axis=1).to_dict()\n",
    "\n",
    "    @staticmethod\n",
    "    def most_recent_sunday() -> date:\n",
    "        \"\"\"Find the most recent Sunday that falls before today.\"\"\"\n",
    "        today = date.today()\n",
    "        while today.weekday() != 6:\n",
    "            today = today - timedelta(days=1)\n",
    "        return today\n",
    "\n",
    "    @property\n",
    "    def is_ppmd(self) -> bool:\n",
    "        \"\"\"Is this person a PPMD?\"\"\"\n",
    "        return self.level in (\"partner\", \"principal\", \"managing director\")\n",
    "    \n",
    "    def __str__(self):\n",
    "        \"\"\"Let str(x) return a useful string representation of the Employee.\"\"\"\n",
    "        return f\"{self.lastname}, {self.firstname} [{self.__class__.__name__} - {self.level}]\""
   ]
  },
  {
   "cell_type": "code",
   "execution_count": null,
   "metadata": {},
   "outputs": [],
   "source": [
    "emp = Employee(\"Loite\", \"Del\", level=\"Senior Manager\")\n",
    "print(emp)"
   ]
  },
  {
   "cell_type": "code",
   "execution_count": null,
   "metadata": {},
   "outputs": [],
   "source": [
    "emp.level"
   ]
  },
  {
   "cell_type": "code",
   "execution_count": null,
   "metadata": {},
   "outputs": [],
   "source": [
    "emp.is_ppmd"
   ]
  },
  {
   "cell_type": "markdown",
   "metadata": {},
   "source": [
    "Del has been promoted:"
   ]
  },
  {
   "cell_type": "code",
   "execution_count": null,
   "metadata": {},
   "outputs": [],
   "source": [
    "# Alter some internal state for `emp` and return the resulting new level\n",
    "emp.promote()"
   ]
  },
  {
   "cell_type": "code",
   "execution_count": null,
   "metadata": {},
   "outputs": [],
   "source": [
    "emp.level"
   ]
  },
  {
   "cell_type": "code",
   "execution_count": null,
   "metadata": {},
   "outputs": [],
   "source": [
    "emp.is_ppmd"
   ]
  },
  {
   "cell_type": "markdown",
   "metadata": {},
   "source": [
    "Now Del needs to record some timesheet entries:"
   ]
  },
  {
   "cell_type": "code",
   "execution_count": null,
   "metadata": {},
   "outputs": [],
   "source": [
    "entries = [\n",
    "    {\"dt\": date(2020, 8, 20), \"wbs_code\": \"pto\", \"hours\": 8.0},\n",
    "    {\"dt\": date(2020, 8, 1), \"wbs_code\": \"ced\", \"hours\": 2.0},\n",
    "    {\"dt\": date(2020, 8, 20), \"wbs_code\": \"xyz\", \"hours\": 9.0},\n",
    "    {\"dt\": date(2020, 8, 17), \"wbs_code\": \"ced\", \"hours\": 2.0},\n",
    "    {\"dt\": date(2020, 8, 17), \"wbs_code\": \"abc\", \"hours\": 11.5},\n",
    "    {\"dt\": date(2020, 8, 18), \"wbs_code\": \"gaa\", \"hours\": 1.0},\n",
    "    {\"dt\": date(2020, 8, 18), \"wbs_code\": \"xyz\", \"hours\": 7.0},\n",
    "    {\"dt\": date(2020, 8, 19), \"wbs_code\": \"ced\", \"hours\": 2.0},\n",
    "    {\"dt\": date(2020, 8, 16), \"wbs_code\": \"ced\", \"hours\": 2.0}\n",
    "]\n",
    "for e in entries:\n",
    "    emp.add_time_entry(**e)"
   ]
  },
  {
   "cell_type": "code",
   "execution_count": null,
   "metadata": {
    "scrolled": true
   },
   "outputs": [],
   "source": [
    "emp.timesheet()"
   ]
  },
  {
   "cell_type": "code",
   "execution_count": null,
   "metadata": {},
   "outputs": [],
   "source": [
    "emp.timesheet(since=date(2020, 8, 17))"
   ]
  },
  {
   "cell_type": "code",
   "execution_count": null,
   "metadata": {},
   "outputs": [],
   "source": [
    "emp.current_week_hours()"
   ]
  },
  {
   "cell_type": "markdown",
   "metadata": {},
   "source": [
    "One concept that this example illustrates is [**composition**](https://realpython.com/inheritance-composition-python/): each `Employee` holds a `_time_table` list representing rows in a timesheet."
   ]
  },
  {
   "cell_type": "markdown",
   "metadata": {},
   "source": [
    "### Inheritance"
   ]
  },
  {
   "cell_type": "markdown",
   "metadata": {},
   "source": [
    "The `Employee` class above is narrow-minded in that it only accounts for Deloitte's Traditionalist track levels.\n",
    "\n",
    "We can create separate classes for `Traditionalist`, `Specialist`, and others through **inheritance**.\n",
    "\n",
    "`Employee` becomes the **base class**.  `Traditionalist` and `Specialist` are the **child classes** that **inherit** from `Employee`.  `Employee` defines pieces that are common to its subclasses.  These will be inherited unless they are overriden in the subclass:"
   ]
  },
  {
   "cell_type": "code",
   "execution_count": null,
   "metadata": {},
   "outputs": [],
   "source": [
    "class Traditionalist(Employee):\n",
    "    valid_levels = (\n",
    "        \"analyst\",\n",
    "        \"consultant\",\n",
    "        \"senior consultant\",\n",
    "        \"manager\",\n",
    "        \"senior manager\",\n",
    "        \"partner\",\n",
    "        \"principal\",\n",
    "        \"managing director\",      \n",
    "    )\n",
    "\n",
    "\n",
    "class Specialist(Employee):\n",
    "    valid_levels = (\n",
    "        \"analyst\",\n",
    "        \"specialist senior\",\n",
    "        \"specialist master\",\n",
    "        \"specialist leader\",\n",
    "        \"managing director\",\n",
    "    )"
   ]
  },
  {
   "cell_type": "code",
   "execution_count": null,
   "metadata": {
    "scrolled": true
   },
   "outputs": [],
   "source": [
    "joe = Specialist(\"Smith\", \"Joe\", \"specialist master\")\n",
    "print(joe)"
   ]
  },
  {
   "cell_type": "code",
   "execution_count": null,
   "metadata": {},
   "outputs": [],
   "source": [
    "try:\n",
    "    jane = Traditionalist(\"Doe\", \"Jane\", \"specialist leader\")\n",
    "except Exception as e:\n",
    "    print(e)"
   ]
  },
  {
   "cell_type": "markdown",
   "metadata": {},
   "source": [
    "Inherited methods still behave the same:"
   ]
  },
  {
   "cell_type": "code",
   "execution_count": null,
   "metadata": {},
   "outputs": [],
   "source": [
    "joe.is_ppmd"
   ]
  },
  {
   "cell_type": "code",
   "execution_count": null,
   "metadata": {},
   "outputs": [],
   "source": [
    "joe.add_time_entry(dt=date(2020, 8, 20), wbs_code=\"hgi\", hours=9.25).timesheet()"
   ]
  },
  {
   "cell_type": "markdown",
   "metadata": {},
   "source": [
    "### OOP Example 2: Representing Geography"
   ]
  },
  {
   "cell_type": "markdown",
   "metadata": {},
   "source": [
    "In this section, you'll continue with another exercise in OOP, but switch to building a new `Coordinates` class that represents a pair of geographical _(latitude, longtitude)_ coordinates."
   ]
  },
  {
   "cell_type": "code",
   "execution_count": null,
   "metadata": {},
   "outputs": [],
   "source": [
    "from math import radians, asin, cos, sin, sqrt\n",
    "\n",
    "class IllegalCoordinatesError(Exception):\n",
    "    \"\"\"Raise this exception when you are passed a nonsensical coordinate value.\"\"\"\n",
    "    pass\n",
    "\n",
    "class Coordinates(object):\n",
    "\n",
    "    def __init__(self, lat: float, lng: float):\n",
    "        \"\"\"Make a new pair of coordinates.\"\"\"\n",
    "        self.lat = self.validate_lat(lat)\n",
    "        self.lng = self.validate_lng(lng)\n",
    "        \n",
    "        # Functions from `math` expect coordinates expressed in radians, not degrees\n",
    "        self._phi = radians(lat)\n",
    "        self._lambda = radians(lng)\n",
    "    \n",
    "    def validate_lat(self, lat) -> float:\n",
    "        \"\"\"Validate that input latitude is within bounds.\"\"\"\n",
    "        if not (self.MIN_LAT <= lat <= self.MAX_LAT):\n",
    "            raise IllegalCoordinatesError(f\"lat must be in range ({self.MIN_LAT}, {self.MAX_LAT})\")\n",
    "        return lat\n",
    "\n",
    "    def validate_lng(self, lng) -> float:\n",
    "        \"\"\"Validate that input longtitude is within bounds.\"\"\"\n",
    "        if not (self.MIN_LNG <= lng <= self.MAX_LNG):\n",
    "            raise IllegalCoordinatesError(f\"lng must be in range ({self.MIN_LNG}, {self.MAX_LNG})\")\n",
    "        return lng\n",
    "    \n",
    "    # Limits on latitude and longitude, expressed in degrees\n",
    "    MIN_LAT, MAX_LAT = -90, 90\n",
    "    MIN_LNG, MAX_LNG = -180, 180\n",
    "\n",
    "    def __str__(self):\n",
    "        \"\"\"Make a human-readable string representation of the coordinates pair.\"\"\"\n",
    "        return f\"<Coordinates> ({self.lat}, {self.lng})\"\n",
    "\n",
    "    def distance_from(self, other):\n",
    "        \"\"\"Approximate distance in KM from one Coordinate to another.\"\"\"\n",
    "        raise NotImplementedError(\"Challenge problem #3.  Write me!\")\n",
    "\n",
    "    @classmethod\n",
    "    def from_string(cls, coords: str):\n",
    "        \"\"\"Parse a string into a Coordinates object.\n",
    "        \n",
    "        Accepts coordinate strings delimited by:\n",
    "        - Whitespace ->            '38.8977559 -77.0704521'\n",
    "        - Comma ->                 '38.8977559,-77.0704521'\n",
    "        - Comma-plus-whitespace -> '38.8977559,   -77.0704521'\n",
    "        \"\"\"\n",
    "        raise NotImplementedError(\"Challenge problem #4.  Write me!\")"
   ]
  },
  {
   "cell_type": "markdown",
   "metadata": {},
   "source": [
    "What are some features of modelling a coordinate pair with a `Coordinates` class?\n",
    "\n",
    "- **Data encapsulation** and **namespacing**: You no longer have a bunch of individual variables floating around.  Each `Coordinate` instance gets its own `.lat`, `.lng` (degrees) and `._phi`, `._lambda` (radians).\n",
    "- **Validation**: You can hook implicit validation via `.validate_lat()` and `.validate_lng()` into the classes's `.__init__()` to raise an early exception if inputs don't look right.\n",
    "- **Extensibility**: You can add additional functionality just by defining new methods."
   ]
  },
  {
   "cell_type": "markdown",
   "metadata": {},
   "source": [
    "### Exercises: OOP"
   ]
  },
  {
   "cell_type": "markdown",
   "metadata": {},
   "source": [
    "#### Challenge 3"
   ]
  },
  {
   "cell_type": "markdown",
   "metadata": {},
   "source": [
    "In the cell above, implement the `Coordinates.distance_from()` **instance method** to determine the distance from one `Coordinate` to another `Coordinate`, in kilometers.\n",
    "\n",
    "Use the Haversine formula and trigonemtric functions from the [`math`](https://docs.python.org/3/library/math.html) module:\n",
    "\n",
    "\\begin{equation*}\n",
    "d = 2r \\arcsin \\sqrt{\\sin^2 \\frac{1}{2} (\\phi_2 - \\phi_1) + \\cos{\\phi_1} \\cos{\\phi_2} \\sin^2 \\frac{1}{2} (\\lambda_2 - \\lambda_1)}\n",
    "\\end{equation*}\n",
    "\n",
    "where:\n",
    "\n",
    "- $\\phi_1$ and $\\lambda_1$ are latitude and longitude for Point 1, respectively\n",
    "- $\\phi_2$ and $\\lambda_2$ are latitude and longitude for Point 2, respectively"
   ]
  },
  {
   "cell_type": "markdown",
   "metadata": {},
   "source": [
    "After adding the method body, the following comparison should hold:"
   ]
  },
  {
   "cell_type": "code",
   "execution_count": null,
   "metadata": {},
   "outputs": [],
   "source": [
    "def test_distance_from() -> None:\n",
    "    c1 = Coordinates(38.8977559, -77.0704521)\n",
    "    c2 = Coordinates(34.9201086, -95.6922305)\n",
    "    assert math.isclose(c1.distance_from(c2), 1713, abs_tol=5.0), \"Distance off by > 5 km\""
   ]
  },
  {
   "cell_type": "markdown",
   "metadata": {},
   "source": [
    "**Challenge 3**: [Solution Notebook](solutions/py201-lesson1-challenge3.ipynb)"
   ]
  },
  {
   "cell_type": "markdown",
   "metadata": {},
   "source": [
    "#### Challenge 4"
   ]
  },
  {
   "cell_type": "markdown",
   "metadata": {},
   "source": [
    "Implement the `Coordinates.from_string()` **classmethod** to let a user form a new coordinates pair from a `str` representing a coordinates pair."
   ]
  },
  {
   "cell_type": "code",
   "execution_count": null,
   "metadata": {},
   "outputs": [],
   "source": [
    "def test_from_string() -> None:\n",
    "    c1 = Coordinates(38.8977559, -77.0704521)\n",
    "    c2 = Coordinates.from_string(\"38.8977559, -77.0704521\")\n",
    "    c3 = Coordinates.from_string(\"38.8977559 -77.0704521\")\n",
    "    c4 = Coordinates.from_string(\"38.8977559,-77.0704521\")\n",
    "    assert c1 == c2 == c3 == c4"
   ]
  },
  {
   "cell_type": "markdown",
   "metadata": {},
   "source": [
    "**Challenge 4**: [Solution Notebook](solutions/py201-lesson1-challenge4.ipynb)"
   ]
  },
  {
   "cell_type": "markdown",
   "metadata": {},
   "source": [
    "## Conclusion"
   ]
  },
  {
   "cell_type": "markdown",
   "metadata": {},
   "source": [
    "Here's a summary of what you covered in this tutorial:\n",
    "\n",
    "- `list`, `set`, and `dict` comprehension: Create new data structures through concise **Pythonic** syntax.\n",
    "- Object-oriented programming: Objects **encapsulate data** and **provide functionality**."
   ]
  },
  {
   "cell_type": "markdown",
   "metadata": {},
   "source": [
    "## More Resources"
   ]
  },
  {
   "cell_type": "markdown",
   "metadata": {},
   "source": [
    "Interested in diving deeper?  Here are some places to start:"
   ]
  },
  {
   "cell_type": "markdown",
   "metadata": {},
   "source": [
    "- **docs.python.org**: [List comprehensions](https://docs.python.org/3/tutorial/datastructures.html#list-comprehensions)\n",
    "- **attrs.org**: [`attrs` - classes without boilerplate](https://www.attrs.org/en/stable/)\n",
    "- **realpython.com**: [Object-oriented programming (OOP)](https://realpython.com/search?q=oop)\n",
    "- **wikipedia.org**: [Haversine formula](https://en.wikipedia.org/wiki/Haversine_formula)\n",
    "- **wikipedia.org**: [Standard deviation](https://en.wikipedia.org/wiki/Standard_deviation)\n",
    "- **docs.python.org**: [PEP 8, Style Guide for Python Code](https://www.python.org/dev/peps/pep-0008/)"
   ]
  },
  {
   "cell_type": "markdown",
   "metadata": {},
   "source": [
    "## Part 2: A Gentle Introduction to Machine Learning"
   ]
  },
  {
   "cell_type": "markdown",
   "metadata": {},
   "source": [
    "### Popular ML packages\n",
    "Below are some general Python packages that are commonly used for ML as well as a brief description of them.\n",
    "\n",
    "##### NumPy\n",
    "A well known general-purpose package for array processing that assists in implementing solutions with linear algebra, Fourier transforms, and random numbers.\n",
    "\n",
    "##### SciPy\n",
    "An open source library supported by a developer community to assist with linear algebram image optimization, Fourier transforms, and computational analytics.\n",
    "\n",
    "##### Scikit-learn\n",
    "Built on top of NumPy and SciPy, it has become the most popular Python ML library and has a wide array of supervised and unsupervised algorithms.\n",
    "\n",
    "##### TensorFlow\n",
    "Developed for Google's internal use, it is a popular machine learning library.\n",
    "\n",
    "##### Keras\n",
    "An open source library primarily used to neural networks as well as features to analyze images."
   ]
  },
  {
   "cell_type": "markdown",
   "metadata": {},
   "source": [
    "## Classification Example\n",
    "As a follow-up to the model types discussed in the presentation, we will be walking through how to create a classification model with a well known data set on iris species. In total, there are three iris species that the flowers can be classified into: setosa, versicola, and virginica.\n",
    "\n",
    "The dataset we are importing has 150 samples, 3 possible labels, 4 features, and we will be using Scikit-learn for the model."
   ]
  },
  {
   "cell_type": "code",
   "execution_count": null,
   "metadata": {},
   "outputs": [],
   "source": [
    "# 1. Load the data and separate it\n",
    "from  sklearn import  datasets\n",
    "iris = datasets.load_iris()"
   ]
  },
  {
   "cell_type": "code",
   "execution_count": null,
   "metadata": {},
   "outputs": [],
   "source": [
    "# The variable of this dataset are sepal length, sepal width, petal length\n",
    "# petal width, and the iris class/species\n",
    "\n",
    "iris"
   ]
  },
  {
   "cell_type": "code",
   "execution_count": null,
   "metadata": {},
   "outputs": [],
   "source": [
    "# Separate the labels from the features\n",
    "import pandas as pd\n",
    "x = iris.data\n",
    "y = iris.target\n",
    "\n",
    "# Putting to data into a Pandas dataframe to view more easily\n",
    "d = [{\"sepal_length\":row[0], \n",
    "      \"sepal_width\":row[1], \n",
    "      \"petal_length\":row[2], \n",
    "      \"petal_width\":row[3]} for row in x]\n",
    "df = pd.DataFrame(d)\n",
    "df[\"types\"] = y"
   ]
  },
  {
   "cell_type": "code",
   "execution_count": null,
   "metadata": {},
   "outputs": [],
   "source": [
    "df.head(10)"
   ]
  },
  {
   "cell_type": "markdown",
   "metadata": {},
   "source": [
    "### Note on test-train split\n",
    "Typically a test-train split of 70% of the dataset going to training group and 30% going to the testing group. The training group will be used to create the model."
   ]
  },
  {
   "cell_type": "code",
   "execution_count": null,
   "metadata": {},
   "outputs": [],
   "source": [
    "# Split the dataset into test and train data using the train_test_split module\n",
    "# x_train has training features\n",
    "# x_test has testing features\n",
    "# y_train has training label\n",
    "# y_test has training label\n",
    "\n",
    "from sklearn.model_selection import train_test_split\n",
    "x_train, x_test, y_train, y_test = train_test_split(x,y,test_size=.3)"
   ]
  },
  {
   "cell_type": "markdown",
   "metadata": {},
   "source": [
    "### 2. Create the model"
   ]
  },
  {
   "cell_type": "code",
   "execution_count": null,
   "metadata": {},
   "outputs": [],
   "source": [
    "# There are many ways to build this classification model. \n",
    "# We are going to use a K Nearest Neighbor model.\n",
    "\n",
    "from sklearn import neighbors\n",
    "classifier=neighbors.KNeighborsClassifier()"
   ]
  },
  {
   "cell_type": "markdown",
   "metadata": {},
   "source": [
    "### 3. Train the model\n",
    "So far, we've created the model but haven't put any data into it. Until we train the model, we will not be able to us it to predict what species or Iris each flower belongs to."
   ]
  },
  {
   "cell_type": "code",
   "execution_count": null,
   "metadata": {},
   "outputs": [],
   "source": [
    "# We will use the fit function in order to do this\n",
    "\n",
    "classifier.fit(x_train,y_train)"
   ]
  },
  {
   "cell_type": "markdown",
   "metadata": {},
   "source": [
    "### 4. Use the model to make predictions\n",
    "Let's now use our trained model to make predictions on the test data set."
   ]
  },
  {
   "cell_type": "code",
   "execution_count": null,
   "metadata": {},
   "outputs": [],
   "source": [
    "# We will use the predict function in order to do this\n",
    "\n",
    "model_predictions = classifier.predict(x_test)"
   ]
  },
  {
   "cell_type": "code",
   "execution_count": null,
   "metadata": {},
   "outputs": [],
   "source": [
    "# Let's now use the accuracy_score function to evaluate our model\n",
    "\n",
    "from sklearn.metrics import accuracy_score\n",
    "print(accuracy_score(y_test, model_predictions))"
   ]
  },
  {
   "cell_type": "markdown",
   "metadata": {},
   "source": [
    "### Note: we could have used another classifier\n",
    "We used a KNN model but we also could have used a Decision Tree. Here's the code for that."
   ]
  },
  {
   "cell_type": "code",
   "execution_count": null,
   "metadata": {
    "scrolled": true
   },
   "outputs": [],
   "source": [
    "from sklearn import tree\n",
    "classifier_DT = tree.DecisionTreeClassifier()\n",
    "classifier_DT.fit(x_train, y_train)\n",
    "predictions_DT = classifier_DT.predict(x_test)\n",
    "\n",
    "# Here is another way you could evaluate the model with the confusion matrix we\n",
    "# discussed before\n",
    "\n",
    "from sklearn.metrics import classification_report\n",
    "print(classification_report(y_test, predictions_DT,\n",
    "      target_names = [\"type0\",\"type1\",\"type2\"]))"
   ]
  }
 ],
 "metadata": {
  "kernelspec": {
   "display_name": "Python 3",
   "language": "python",
   "name": "python3"
  },
  "language_info": {
   "codemirror_mode": {
    "name": "ipython",
    "version": 3
   },
   "file_extension": ".py",
   "mimetype": "text/x-python",
   "name": "python",
   "nbconvert_exporter": "python",
   "pygments_lexer": "ipython3",
   "version": "3.7.6"
  }
 },
 "nbformat": 4,
 "nbformat_minor": 4
}
