{
 "cells": [
  {
   "cell_type": "markdown",
   "metadata": {},
   "source": [
    "⇒ _Back to [AnalyticsU - Python 201 - Lesson 1: Intermediate Python Concepts](../py201-lesson1.ipynb)_"
   ]
  },
  {
   "cell_type": "markdown",
   "metadata": {},
   "source": [
    "# Python 201 - Lesson 1 - Challenge 3"
   ]
  },
  {
   "cell_type": "markdown",
   "metadata": {},
   "source": [
    "## Problem"
   ]
  },
  {
   "cell_type": "markdown",
   "metadata": {},
   "source": [
    "In the cell above, implement the `Coordinates.distance_from()` **instance method** to determine the distance from one `Coordinate` to another `Coordinate`, in kilometers.\n",
    "\n",
    "Use the Haversine formula and trigonemtric functions from the [`math`](https://docs.python.org/3/library/math.html) module:\n",
    "\n",
    "\\begin{equation*}\n",
    "d = 2r \\arcsin \\sqrt{\\sin^2 \\frac{1}{2} (\\phi_2 - \\phi_1) + \\cos{\\phi_1} \\cos{\\phi_2} \\sin^2 \\frac{1}{2} (\\lambda_2 - \\lambda_1)}\n",
    "\\end{equation*}\n",
    "\n",
    "where:\n",
    "\n",
    "- $\\phi_1$ and $\\lambda_1$ are latitude and longitude for Point 1, respectively\n",
    "- $\\phi_2$ and $\\lambda_2$ are latitude and longitude for Point 2, respectively"
   ]
  },
  {
   "cell_type": "markdown",
   "metadata": {},
   "source": [
    "## Solution(s)"
   ]
  },
  {
   "cell_type": "code",
   "execution_count": 1,
   "metadata": {},
   "outputs": [],
   "source": [
    "from math import radians, asin, cos, sin, sqrt\n",
    "\n",
    "class IllegalCoordinatesError(Exception):\n",
    "    \"\"\"Raise this exception when you are passed a nonsensical coordinate value.\"\"\"\n",
    "    pass\n",
    "\n",
    "class Coordinates(object):\n",
    "\n",
    "    def __init__(self, lat: float, lng: float):\n",
    "        \"\"\"Make a new pair of coordinates.\"\"\"\n",
    "        self.lat = self.validate_lat(lat)\n",
    "        self.lng = self.validate_lng(lng)\n",
    "        \n",
    "        # Functions from `math` expect coordinates expressed in radians, not degrees\n",
    "        self._phi = radians(lat)\n",
    "        self._lambda = radians(lng)\n",
    "    \n",
    "    def validate_lat(self, lat) -> float:\n",
    "        \"\"\"Validate that input latitude is within bounds.\"\"\"\n",
    "        if not (self.MIN_LAT <= lat <= self.MAX_LAT):\n",
    "            raise IllegalCoordinatesError(f\"lat must be in range ({self.MIN_LAT}, {self.MAX_LAT})\")\n",
    "        return lat\n",
    "\n",
    "    def validate_lng(self, lng) -> float:\n",
    "        \"\"\"Validate that input longtitude is within bounds.\"\"\"\n",
    "        if not (self.MIN_LNG <= lng <= self.MAX_LNG):\n",
    "            raise IllegalCoordinatesError(f\"lng must be in range ({self.MIN_LNG}, {self.MAX_LNG})\")\n",
    "        return lng\n",
    "    \n",
    "    # Limits on latitude and longitude, expressed in degrees\n",
    "    MIN_LAT, MAX_LAT = -90, 90\n",
    "    MIN_LNG, MAX_LNG = -180, 180\n",
    "\n",
    "    def __str__(self):\n",
    "        \"\"\"Make a human-readable string representation of the coordinates pair.\"\"\"\n",
    "        return f\"<Coordinates> ({self.lat}, {self.lng})\"\n",
    "\n",
    "    def distance_from(self, other):\n",
    "        \"\"\"Approximate distance in KM from one Coordinate to another.\"\"\"\n",
    "        raise NotImplementedError(\"Challenge problem #3.  Write me!\")\n",
    "\n",
    "    @classmethod\n",
    "    def from_string(cls, coords: str):\n",
    "        \"\"\"Parse a string into a Coordinates object.\"\"\"\n",
    "        raise NotImplementedError(\"Challenge problem #4.  Write me!\")\n",
    "\n",
    "    def distance_from(self, other):\n",
    "        \"\"\"Approximate distance in KM from one Coordinate to another.\"\"\"\n",
    "        R = 6371  # Radius of Earth in KM\n",
    "        haversine = (\n",
    "            sin((other._phi - self._phi) / 2) ** 2\n",
    "            + cos(self._phi)\n",
    "            * cos(other._phi)\n",
    "            * sin((other._lambda - self._lambda) / 2) **2\n",
    "        )\n",
    "        return 2 * R * asin(sqrt(haversine))"
   ]
  },
  {
   "cell_type": "code",
   "execution_count": 2,
   "metadata": {},
   "outputs": [],
   "source": [
    "import math\n",
    "\n",
    "c1 = Coordinates(38.8977559, -77.0704521)\n",
    "c2 = Coordinates(34.9201086, -95.6922305)\n",
    "\n",
    "assert math.isclose(c1.distance_from(c2), 1713, abs_tol=5.0), \"Distance off by > 5 km\""
   ]
  }
 ],
 "metadata": {
  "kernelspec": {
   "display_name": "Python 3",
   "language": "python",
   "name": "python3"
  },
  "language_info": {
   "codemirror_mode": {
    "name": "ipython",
    "version": 3
   },
   "file_extension": ".py",
   "mimetype": "text/x-python",
   "name": "python",
   "nbconvert_exporter": "python",
   "pygments_lexer": "ipython3",
   "version": "3.7.3"
  }
 },
 "nbformat": 4,
 "nbformat_minor": 4
}
