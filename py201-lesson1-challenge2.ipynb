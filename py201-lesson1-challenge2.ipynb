{
 "cells": [
  {
   "cell_type": "markdown",
   "metadata": {},
   "source": [
    "⇒ _Back to [AnalyticsU - Python 201 - Lesson 1: Intermediate Python Concepts](../py201-lesson1.ipynb)_"
   ]
  },
  {
   "cell_type": "markdown",
   "metadata": {},
   "source": [
    "# Python 201 - Lesson 1 - Challenge 2"
   ]
  },
  {
   "cell_type": "markdown",
   "metadata": {},
   "source": [
    "## Problem"
   ]
  },
  {
   "cell_type": "markdown",
   "metadata": {},
   "source": [
    "You have a bag containing magnets. Each magnet contains an individual letter of the alphabet.\n",
    "\n",
    "Write a function `can_you_spell()` that returns `True` or `False` if a person's name can be spelled using letters from the bag, _without replacement_."
   ]
  },
  {
   "cell_type": "markdown",
   "metadata": {},
   "source": [
    "## Solution(s)"
   ]
  },
  {
   "cell_type": "code",
   "execution_count": 1,
   "metadata": {},
   "outputs": [],
   "source": [
    "from typing import Container\n",
    "\n",
    "def can_you_spell(name: str, bag: Container[str]) -> bool:\n",
    "    return \"\".join(sorted([i for i in bag if i in name], key=name.index)) == name"
   ]
  },
  {
   "cell_type": "code",
   "execution_count": 2,
   "metadata": {},
   "outputs": [],
   "source": [
    "assert can_you_spell(\"lynn\", [\"y\", \"n\", \"p\", \"g\", \"n\", \"l\"])"
   ]
  },
  {
   "cell_type": "code",
   "execution_count": 3,
   "metadata": {},
   "outputs": [],
   "source": [
    "assert not can_you_spell(\"lynn\", [\"y\", \"n\", \"p\", \"g\", \"l\"])"
   ]
  },
  {
   "cell_type": "code",
   "execution_count": 4,
   "metadata": {},
   "outputs": [],
   "source": [
    "assert not can_you_spell(\"lynn\", [\"n\", \"o\", \"p\", \"e\"])"
   ]
  }
 ],
 "metadata": {
  "kernelspec": {
   "display_name": "Python 3",
   "language": "python",
   "name": "python3"
  },
  "language_info": {
   "codemirror_mode": {
    "name": "ipython",
    "version": 3
   },
   "file_extension": ".py",
   "mimetype": "text/x-python",
   "name": "python",
   "nbconvert_exporter": "python",
   "pygments_lexer": "ipython3",
   "version": "3.7.3"
  }
 },
 "nbformat": 4,
 "nbformat_minor": 4
}
