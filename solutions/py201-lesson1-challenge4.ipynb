{
 "cells": [
  {
   "cell_type": "markdown",
   "metadata": {},
   "source": [
    "⇒ _Back to [AnalyticsU - Python 201 - Lesson 1: Intermediate Python Concepts](../py201-lesson1.ipynb)_"
   ]
  },
  {
   "cell_type": "markdown",
   "metadata": {},
   "source": [
    "# Python 201 - Lesson 1 - Challenge 4"
   ]
  },
  {
   "cell_type": "markdown",
   "metadata": {},
   "source": [
    "## Problem"
   ]
  },
  {
   "cell_type": "markdown",
   "metadata": {},
   "source": [
    "Implement the `Coordinates.from_string()` **classmethod** to let a user form a new coordinates pair from a `str` representing a coordinates pair."
   ]
  },
  {
   "cell_type": "markdown",
   "metadata": {},
   "source": [
    "## Solution(s)"
   ]
  },
  {
   "cell_type": "code",
   "execution_count": 1,
   "metadata": {},
   "outputs": [],
   "source": [
    "from math import radians, asin, cos, sin, sqrt\n",
    "\n",
    "class IllegalCoordinatesError(Exception):\n",
    "    \"\"\"Raise this exception when you are passed a nonsensical coordinate value.\"\"\"\n",
    "    pass\n",
    "\n",
    "class Coordinates(object):\n",
    "\n",
    "    def __init__(self, lat: float, lng: float):\n",
    "        \"\"\"Make a new pair of coordinates.\"\"\"\n",
    "        self.lat = self.validate_lat(lat)\n",
    "        self.lng = self.validate_lng(lng)\n",
    "        \n",
    "        # Functions from `math` expect coordinates expressed in radians, not degrees\n",
    "        self._phi = radians(lat)\n",
    "        self._lambda = radians(lng)\n",
    "    \n",
    "    def validate_lat(self, lat) -> float:\n",
    "        \"\"\"Validate that input latitude is within bounds.\"\"\"\n",
    "        if not (self.MIN_LAT <= lat <= self.MAX_LAT):\n",
    "            raise IllegalCoordinatesError(f\"lat must be in range ({self.MIN_LAT}, {self.MAX_LAT})\")\n",
    "        return lat\n",
    "\n",
    "    def validate_lng(self, lng) -> float:\n",
    "        \"\"\"Validate that input longtitude is within bounds.\"\"\"\n",
    "        if not (self.MIN_LNG <= lng <= self.MAX_LNG):\n",
    "            raise IllegalCoordinatesError(f\"lng must be in range ({self.MIN_LNG}, {self.MAX_LNG})\")\n",
    "        return lng\n",
    "    \n",
    "    # Limits on latitude and longitude, expressed in degrees\n",
    "    MIN_LAT, MAX_LAT = -90, 90\n",
    "    MIN_LNG, MAX_LNG = -180, 180\n",
    "\n",
    "    def __str__(self) -> str:\n",
    "        \"\"\"Make a human-readable string representation of the coordinates pair.\"\"\"\n",
    "        return f\"<Coordinates> ({self.lat}, {self.lng})\"\n",
    "    \n",
    "    def __eq__(self, other) -> bool:\n",
    "        if not isinstance(other, self.__class__):\n",
    "            raise NotImplementedError\n",
    "        return self.lat == other.lat and self.lng == other.lng\n",
    "\n",
    "    def distance_from(self, other):\n",
    "        \"\"\"Approximate distance in KM from one Coordinate to another.\"\"\"\n",
    "        raise NotImplementedError(\"Challenge problem #3.  Write me!\")\n",
    "\n",
    "    @classmethod\n",
    "    def from_string(cls, coords: str):\n",
    "        \"\"\"Parse a string into a Coordinates object.\"\"\"\n",
    "        raise NotImplementedError(\"Challenge problem #4.  Write me!\")\n",
    "\n",
    "    @classmethod\n",
    "    def from_string(cls, coords: str):\n",
    "        # Allow the input string to be separated by a comma, whitespace, or combination of the two\n",
    "        if \",\" in coords:\n",
    "            sep = \",\"\n",
    "        elif \" \" in coords:\n",
    "            sep = \" \"\n",
    "        else:\n",
    "            raise ValueError(\"Unrecognized coordinates string\")\n",
    "        lat, lng = (float(i.strip()) for i in coords.split(sep, maxsplit=1))\n",
    "        return cls(lat, lng)"
   ]
  },
  {
   "cell_type": "code",
   "execution_count": 2,
   "metadata": {},
   "outputs": [],
   "source": [
    "c1 = Coordinates(38.8977559, -77.0704521)\n",
    "c2 = Coordinates.from_string(\"38.8977559, -77.0704521\")\n",
    "c3 = Coordinates.from_string(\"38.8977559 -77.0704521\")\n",
    "c4 = Coordinates.from_string(\"38.8977559,-77.0704521\")\n",
    "\n",
    "all_equal = c1 == c2 == c3 == c4\n",
    "assert all_equal"
   ]
  },
  {
   "cell_type": "markdown",
   "metadata": {},
   "source": [
    "Alternate solution: parse the coordinates pair with a Python [regular expression](https://docs.python.org/3/library/re.html):"
   ]
  },
  {
   "cell_type": "code",
   "execution_count": 3,
   "metadata": {},
   "outputs": [
    {
     "name": "stdout",
     "output_type": "stream",
     "text": [
      "('38.8977559', '-77.0704521')\n",
      "('38.8977559', '-77.0704521')\n",
      "('38.8977559', '-77.0704521')\n"
     ]
    }
   ],
   "source": [
    "import re\n",
    "\n",
    "coordinates_regex = re.compile(r\"^(-?\\d+\\.\\d+)(?:,\\s*|\\s+)(-?\\d+\\.\\d+)$\")\n",
    "\n",
    "print(coordinates_regex.match(\"38.8977559, -77.0704521\").groups())\n",
    "print(coordinates_regex.match(\"38.8977559,-77.0704521\").groups())\n",
    "print(coordinates_regex.match(\"38.8977559    -77.0704521\").groups())"
   ]
  }
 ],
 "metadata": {
  "kernelspec": {
   "display_name": "Python 3",
   "language": "python",
   "name": "python3"
  },
  "language_info": {
   "codemirror_mode": {
    "name": "ipython",
    "version": 3
   },
   "file_extension": ".py",
   "mimetype": "text/x-python",
   "name": "python",
   "nbconvert_exporter": "python",
   "pygments_lexer": "ipython3",
   "version": "3.7.3"
  }
 },
 "nbformat": 4,
 "nbformat_minor": 4
}
